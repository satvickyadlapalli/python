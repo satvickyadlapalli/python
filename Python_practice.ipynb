{
  "nbformat": 4,
  "nbformat_minor": 0,
  "metadata": {
    "colab": {
      "name": "Python_practice.ipynb",
      "provenance": [],
      "authorship_tag": "ABX9TyMuBux+E57xaC5UgxH5OtSt",
      "include_colab_link": true
    },
    "kernelspec": {
      "name": "python3",
      "display_name": "Python 3"
    },
    "language_info": {
      "name": "python"
    }
  },
  "cells": [
    {
      "cell_type": "markdown",
      "metadata": {
        "id": "view-in-github",
        "colab_type": "text"
      },
      "source": [
        "<a href=\"https://colab.research.google.com/github/satvickyadlapalli/python/blob/main/Python_practice.ipynb\" target=\"_parent\"><img src=\"https://colab.research.google.com/assets/colab-badge.svg\" alt=\"Open In Colab\"/></a>"
      ]
    },
    {
      "cell_type": "code",
      "execution_count": null,
      "metadata": {
        "id": "GCgwP2R0ITlR"
      },
      "outputs": [],
      "source": [
        "#find the persom whether eligible to vote or not\n"
      ]
    },
    {
      "cell_type": "code",
      "source": [
        "a=int(input())\n",
        "if a>=18:\n",
        "      print(\"eligible to vote\")\n",
        "else:\n",
        "      print(\"not eligile to vote\")"
      ],
      "metadata": {
        "id": "h6gsNfp0P98Q",
        "outputId": "becbb4ee-d2ab-409f-d3d8-ec9743d0a498",
        "colab": {
          "base_uri": "https://localhost:8080/"
        }
      },
      "execution_count": 3,
      "outputs": [
        {
          "output_type": "stream",
          "name": "stdout",
          "text": [
            "34\n",
            "eligible to vote\n"
          ]
        }
      ]
    }
  ]
}