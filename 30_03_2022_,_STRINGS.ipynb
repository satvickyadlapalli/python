{
  "nbformat": 4,
  "nbformat_minor": 0,
  "metadata": {
    "colab": {
      "name": "30/03/2022 , STRINGS.ipynb",
      "provenance": [],
      "authorship_tag": "ABX9TyPFdOIH6f/fy5/GUSylXt3k",
      "include_colab_link": true
    },
    "kernelspec": {
      "name": "python3",
      "display_name": "Python 3"
    },
    "language_info": {
      "name": "python"
    }
  },
  "cells": [
    {
      "cell_type": "markdown",
      "metadata": {
        "id": "view-in-github",
        "colab_type": "text"
      },
      "source": [
        "<a href=\"https://colab.research.google.com/github/satvickyadlapalli/python/blob/main/30_03_2022_%2C_STRINGS.ipynb\" target=\"_parent\"><img src=\"https://colab.research.google.com/assets/colab-badge.svg\" alt=\"Open In Colab\"/></a>"
      ]
    },
    {
      "cell_type": "markdown",
      "source": [
        "LENGTH OF THE LINE STRING"
      ],
      "metadata": {
        "id": "TnyGhLGKAPWm"
      }
    },
    {
      "cell_type": "code",
      "execution_count": null,
      "metadata": {
        "colab": {
          "base_uri": "https://localhost:8080/"
        },
        "id": "5Y4SCFdm8GAJ",
        "outputId": "99d0d3dd-fd3f-4a24-f437-12200400be1c"
      },
      "outputs": [
        {
          "output_type": "stream",
          "name": "stdout",
          "text": [
            "92\n",
            " I an satvick studying in gitam university today i am having python class in ict room no 219\n"
          ]
        }
      ],
      "source": [
        "a=' I am satvick studying in gitam university today i am having python class in ict room no 219'\n",
        "print(len(a))\n",
        "print(a)"
      ]
    },
    {
      "cell_type": "markdown",
      "source": [
        "CHECKING WHEATHER THE GIVEN WORD IS IN THE LINE OR NOT"
      ],
      "metadata": {
        "id": "iVjuCPU3AWpz"
      }
    },
    {
      "cell_type": "code",
      "source": [
        "a=' I am satvick studying in gitam university today i am having python class in ict room no 219 '\n",
        "print('python' in a)"
      ],
      "metadata": {
        "colab": {
          "base_uri": "https://localhost:8080/"
        },
        "id": "D6E7QiNs_htV",
        "outputId": "088cea11-e6c6-4fc9-efe7-ceae5bdb8fee"
      },
      "execution_count": null,
      "outputs": [
        {
          "output_type": "stream",
          "name": "stdout",
          "text": [
            "True\n"
          ]
        }
      ]
    },
    {
      "cell_type": "code",
      "source": [
        "a=' I am satvick studying in gitam university today i am having python class in ict room no 219'\n",
        "print('218' in a)"
      ],
      "metadata": {
        "colab": {
          "base_uri": "https://localhost:8080/"
        },
        "id": "DeVO0BY8Agl6",
        "outputId": "c474a453-b598-4136-a26c-3c12be45ce87"
      },
      "execution_count": null,
      "outputs": [
        {
          "output_type": "stream",
          "name": "stdout",
          "text": [
            "False\n"
          ]
        }
      ]
    },
    {
      "cell_type": "markdown",
      "source": [
        "IF NOT"
      ],
      "metadata": {
        "id": "nI0MxgtLAw7y"
      }
    },
    {
      "cell_type": "code",
      "source": [
        "a=' I am satvick studying in gitam university today i am having python class in ict room no 219'\n",
        "print('class' not in a)"
      ],
      "metadata": {
        "colab": {
          "base_uri": "https://localhost:8080/"
        },
        "id": "PNRKMB-nBDlk",
        "outputId": "0df8cd1b-45ae-464b-8458-ed46a54b6b6a"
      },
      "execution_count": null,
      "outputs": [
        {
          "output_type": "stream",
          "name": "stdout",
          "text": [
            "False\n"
          ]
        }
      ]
    },
    {
      "cell_type": "markdown",
      "source": [
        "FOR X"
      ],
      "metadata": {
        "id": "Q0wrSU4DB0kz"
      }
    },
    {
      "cell_type": "code",
      "source": [
        "a=' I am Satvick studying in gitam university today i am having python class in ict room no 219'\n",
        "for x in 'Satvick':\n",
        "    print(x)"
      ],
      "metadata": {
        "colab": {
          "base_uri": "https://localhost:8080/"
        },
        "id": "UrL2lVWwB5AS",
        "outputId": "47f23a6e-a2c0-498f-f766-dc46a38e204a"
      },
      "execution_count": null,
      "outputs": [
        {
          "output_type": "stream",
          "name": "stdout",
          "text": [
            "S\n",
            "a\n",
            "t\n",
            "v\n",
            "i\n",
            "c\n",
            "k\n"
          ]
        }
      ]
    },
    {
      "cell_type": "markdown",
      "source": [
        "*SLICING*"
      ],
      "metadata": {
        "id": "s6ohm5PaCinT"
      }
    },
    {
      "cell_type": "code",
      "source": [
        "a=' I am Satvick studying in gitam university today i am having python class in ict room no 219'\n",
        "print(a[2:31],a[25:35])\n",
        "print(a[:31])\n",
        "print(a[31:21])"
      ],
      "metadata": {
        "colab": {
          "base_uri": "https://localhost:8080/"
        },
        "id": "cNlvlQXECi1K",
        "outputId": "1e31f99c-4f72-4435-d43b-ed0e12d0329f"
      },
      "execution_count": null,
      "outputs": [
        {
          "output_type": "stream",
          "name": "stdout",
          "text": [
            " am Satvick studying in gitam  gitam uni\n",
            " I am Satvick studying in gitam\n",
            "\n"
          ]
        }
      ]
    },
    {
      "cell_type": "markdown",
      "source": [
        "REVERSE OF A STRING"
      ],
      "metadata": {
        "id": "cfJlpR6MFA5q"
      }
    },
    {
      "cell_type": "code",
      "source": [
        "a=' I am Satvick studying in gitam university today i am having python class in ict room no 219'\n",
        "reversed(a)\n",
        "print(a)"
      ],
      "metadata": {
        "colab": {
          "base_uri": "https://localhost:8080/"
        },
        "id": "07geWtj4FdqR",
        "outputId": "2b03727f-6cec-4b87-d6da-146b2385227f"
      },
      "execution_count": null,
      "outputs": [
        {
          "output_type": "stream",
          "name": "stdout",
          "text": [
            " I am Satvick studying in gitam university today i am having python class in ict room no 219\n"
          ]
        }
      ]
    },
    {
      "cell_type": "markdown",
      "source": [
        "modifying string"
      ],
      "metadata": {
        "id": "FTXI1YncF8rC"
      }
    },
    {
      "cell_type": "code",
      "source": [
        "a=' I am Satvick studying in gitam university today i am having python class in ict room no 219'\n",
        "print(a.upper())"
      ],
      "metadata": {
        "colab": {
          "base_uri": "https://localhost:8080/"
        },
        "id": "J7jcwF2HGBmQ",
        "outputId": "9585a969-a9c1-4139-f1e8-762d34ac3a78"
      },
      "execution_count": null,
      "outputs": [
        {
          "output_type": "stream",
          "name": "stdout",
          "text": [
            " I AM SATVICK STUDYING IN GITAM UNIVERSITY TODAY I AM HAVING PYTHON CLASS IN ICT ROOM NO 219\n"
          ]
        }
      ]
    },
    {
      "cell_type": "code",
      "source": [
        "a=' I am Satvick studying in Gitam university today i am having Python class in ict room no 219'\n",
        "print(a.lower())"
      ],
      "metadata": {
        "colab": {
          "base_uri": "https://localhost:8080/"
        },
        "id": "xumDELGaGRN5",
        "outputId": "822f5c82-a3f9-4d57-ec77-5536d7420ddd"
      },
      "execution_count": null,
      "outputs": [
        {
          "output_type": "stream",
          "name": "stdout",
          "text": [
            " i am satvick studying in gitam university today i am having python class in ict room no 219\n"
          ]
        }
      ]
    },
    {
      "cell_type": "code",
      "source": [
        "a=' I am Satvick studying in Gitam university today i am having Python class in ict room no 219'\n",
        "print(a.upper()[0:13],a.lower()[14:76],a.upper()[77:92])"
      ],
      "metadata": {
        "colab": {
          "base_uri": "https://localhost:8080/"
        },
        "id": "JfOixi3BG7OT",
        "outputId": "f104cc18-38e4-4132-a681-d57227612153"
      },
      "execution_count": null,
      "outputs": [
        {
          "output_type": "stream",
          "name": "stdout",
          "text": [
            " I AM SATVICK studying in gitam university today i am having python class in ICT ROOM NO 219\n"
          ]
        }
      ]
    },
    {
      "cell_type": "markdown",
      "source": [
        "REPLACING OF LETTER IN STRING"
      ],
      "metadata": {
        "id": "GWUper-aI7Jr"
      }
    },
    {
      "cell_type": "code",
      "source": [
        "a=' I am Satvick studying in Gitam university today i am having Python class in ict room no 219'\n",
        "print(a.replace(\"Gitam\",\"GIMSR\"))"
      ],
      "metadata": {
        "colab": {
          "base_uri": "https://localhost:8080/"
        },
        "id": "LX8F5Rd0JAfh",
        "outputId": "279a83a5-1060-4aa8-b816-6e606d49dc50"
      },
      "execution_count": null,
      "outputs": [
        {
          "output_type": "stream",
          "name": "stdout",
          "text": [
            " I am Satvick studying in GIMSR university today i am having Python class in ict room no 219\n"
          ]
        }
      ]
    },
    {
      "cell_type": "markdown",
      "source": [
        "ADDING TWO STRINGS\n"
      ],
      "metadata": {
        "id": "nrp1sFtJJmVp"
      }
    },
    {
      "cell_type": "code",
      "source": [
        "a=' I am Satvick studying in Gitam university today i am having Python class in ict room no 219,'\n",
        "b=' I went to RRR MOVIE .'\n",
        "print(a+b)"
      ],
      "metadata": {
        "colab": {
          "base_uri": "https://localhost:8080/"
        },
        "id": "UWbv2A0CKKbQ",
        "outputId": "fd23bceb-03d3-4831-f216-aa8e2600f40b"
      },
      "execution_count": null,
      "outputs": [
        {
          "output_type": "stream",
          "name": "stdout",
          "text": [
            " I am Satvick studying in Gitam university today i am having Python class in ict room no 219, I went to RRR MOVIE .\n"
          ]
        }
      ]
    },
    {
      "cell_type": "code",
      "source": [
        "#adding space between two strings\n",
        "a=' I am Satvick studying in Gitam university today i am having Python class in ict room no 219,'\n",
        "b=' I went to RRR MOVIE .'\n",
        "print(a+\" \"+b)"
      ],
      "metadata": {
        "colab": {
          "base_uri": "https://localhost:8080/"
        },
        "id": "ojrSA3B6LSTo",
        "outputId": "88c27f67-2353-4b25-8fdf-4816096d86f3"
      },
      "execution_count": null,
      "outputs": [
        {
          "output_type": "stream",
          "name": "stdout",
          "text": [
            " I am Satvick studying in Gitam university today i am having Python class in ict room no 219,  I went to RRR MOVIE .\n"
          ]
        }
      ]
    },
    {
      "cell_type": "markdown",
      "source": [
        "FORMATTING STRINGS"
      ],
      "metadata": {
        "id": "b3jYhg1eMALP"
      }
    },
    {
      "cell_type": "code",
      "source": [
        "age = 18\n",
        "txt = \"My name is Satvick, and I am {}\"\n",
        "print(txt.format(age))"
      ],
      "metadata": {
        "colab": {
          "base_uri": "https://localhost:8080/"
        },
        "id": "slYk-0IyMEto",
        "outputId": "d10dddad-9adf-445d-da56-d05a6069979e"
      },
      "execution_count": null,
      "outputs": [
        {
          "output_type": "stream",
          "name": "stdout",
          "text": [
            "My name is Satvick, and I am 18\n"
          ]
        }
      ]
    },
    {
      "cell_type": "code",
      "source": [
        "quantity = 3\n",
        "itemno = 567\n",
        "price = 49.95\n",
        "myorder = \"I want to pay {} dollars for {} pieces of item {}.\"\n",
        "print(myorder.format(price,quantity,itemno))"
      ],
      "metadata": {
        "colab": {
          "base_uri": "https://localhost:8080/"
        },
        "id": "S5ixm0JmNoGQ",
        "outputId": "f36aa7cb-9011-4855-f6df-969c3c68e008"
      },
      "execution_count": null,
      "outputs": [
        {
          "output_type": "stream",
          "name": "stdout",
          "text": [
            "I want to pay 49.95 dollars for 3 pieces of item 567.\n"
          ]
        }
      ]
    }
  ]
}