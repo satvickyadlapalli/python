{
  "nbformat": 4,
  "nbformat_minor": 0,
  "metadata": {
    "colab": {
      "name": "Untitled2.ipynb",
      "provenance": [],
      "authorship_tag": "ABX9TyMu5OCZExQROXtQ0r1YN8om",
      "include_colab_link": true
    },
    "kernelspec": {
      "name": "python3",
      "display_name": "Python 3"
    },
    "language_info": {
      "name": "python"
    }
  },
  "cells": [
    {
      "cell_type": "markdown",
      "metadata": {
        "id": "view-in-github",
        "colab_type": "text"
      },
      "source": [
        "<a href=\"https://colab.research.google.com/github/satvickyadlapalli/python/blob/main/Untitled2.ipynb\" target=\"_parent\"><img src=\"https://colab.research.google.com/assets/colab-badge.svg\" alt=\"Open In Colab\"/></a>"
      ]
    },
    {
      "cell_type": "code",
      "source": [
        "a=25\n",
        "b=50\n",
        "print(\"Prime numbers between\", a, \"and\", b, \"are:\")\n",
        "for num in range(a, b + 1):\n",
        "   if num > 1:\n",
        "       for i in range(2, num):\n",
        "           if (num % i) == 0:\n",
        "               break\n",
        "       else:\n",
        "           print(num)"
      ],
      "metadata": {
        "colab": {
          "base_uri": "https://localhost:8080/"
        },
        "id": "Tqvae7VYsNBv",
        "outputId": "4be58d35-9fa4-4d48-9051-cb81b3721faa"
      },
      "execution_count": 4,
      "outputs": [
        {
          "output_type": "stream",
          "name": "stdout",
          "text": [
            "Prime numbers between 25 and 50 are:\n",
            "29\n",
            "31\n",
            "37\n",
            "41\n",
            "43\n",
            "47\n"
          ]
        }
      ]
    },
    {
      "cell_type": "code",
      "source": [
        "a=int(input(\"enter the month num \"))\n",
        "if a==2:\n",
        "  print(\"28/29 days\")\n",
        "elif a in (1,3,5,6.7,8,10,12):\n",
        "  print(\"31 days\")\n",
        "elif a in (5,6,9,11):\n",
        "  print(\"30 days\")\n",
        "else:\n",
        "  print(\"wrong num entered\")      \n"
      ],
      "metadata": {
        "colab": {
          "base_uri": "https://localhost:8080/"
        },
        "id": "m8j1HysLsFIx",
        "outputId": "174be3d5-16aa-4453-ad6a-549cf874883d"
      },
      "execution_count": 2,
      "outputs": [
        {
          "output_type": "stream",
          "name": "stdout",
          "text": [
            "enter the month num3\n",
            "31 days\n"
          ]
        }
      ]
    },
    {
      "cell_type": "code",
      "execution_count": 1,
      "metadata": {
        "colab": {
          "base_uri": "https://localhost:8080/"
        },
        "id": "BxCYSL06r-Mk",
        "outputId": "af55772e-9165-4afe-b8bd-139d026eec9e"
      },
      "outputs": [
        {
          "output_type": "stream",
          "name": "stdout",
          "text": [
            "am\n"
          ]
        }
      ],
      "source": [
        "a =\"i am satvick\"\n",
        "b=a.split(' ')\n",
        "for x in b:\n",
        "  if len(x)%2==0:\n",
        "     print(x)\n"
      ]
    },
    {
      "cell_type": "code",
      "source": [
        "a =\"i am satvick\"\n",
        "b=a.split(' ')\n",
        "for x in b:\n",
        "     print(x[0].upper(),x[1:7].lower())\n"
      ],
      "metadata": {
        "colab": {
          "base_uri": "https://localhost:8080/"
        },
        "id": "2J8JoOrIswCQ",
        "outputId": "d4b46334-025e-4481-94f4-9fe3b7646a3d"
      },
      "execution_count": 9,
      "outputs": [
        {
          "output_type": "stream",
          "name": "stdout",
          "text": [
            "I \n",
            "A m\n",
            "S atvick\n"
          ]
        }
      ]
    }
  ]
}