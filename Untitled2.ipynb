{
  "nbformat": 4,
  "nbformat_minor": 0,
  "metadata": {
    "colab": {
      "name": "Untitled2.ipynb",
      "provenance": [],
      "authorship_tag": "ABX9TyNcx4Ro3C4gfYUf2p95UWcv",
      "include_colab_link": true
    },
    "kernelspec": {
      "name": "python3",
      "display_name": "Python 3"
    },
    "language_info": {
      "name": "python"
    }
  },
  "cells": [
    {
      "cell_type": "markdown",
      "metadata": {
        "id": "view-in-github",
        "colab_type": "text"
      },
      "source": [
        "<a href=\"https://colab.research.google.com/github/satvickyadlapalli/python/blob/main/Untitled2.ipynb\" target=\"_parent\"><img src=\"https://colab.research.google.com/assets/colab-badge.svg\" alt=\"Open In Colab\"/></a>"
      ]
    },
    {
      "cell_type": "code",
      "source": [
        "a=25\n",
        "b=50\n",
        "print(\"Prime numbers between\", a, \"and\", b, \"are:\")\n",
        "for num in range(a, b + 1):\n",
        "   if num > 1:\n",
        "       for i in range(2, num):\n",
        "           if (num % i) == 0:\n",
        "               break\n",
        "       else:\n",
        "           print(num)"
      ],
      "metadata": {
        "colab": {
          "base_uri": "https://localhost:8080/"
        },
        "id": "Tqvae7VYsNBv",
        "outputId": "4be58d35-9fa4-4d48-9051-cb81b3721faa"
      },
      "execution_count": null,
      "outputs": [
        {
          "output_type": "stream",
          "name": "stdout",
          "text": [
            "Prime numbers between 25 and 50 are:\n",
            "29\n",
            "31\n",
            "37\n",
            "41\n",
            "43\n",
            "47\n"
          ]
        }
      ]
    },
    {
      "cell_type": "code",
      "source": [
        "a=int(input(\"enter the month num \"))\n",
        "if a==2:\n",
        "  print(\"28/29 days\")\n",
        "elif a in (1,3,5,6.7,8,10,12):\n",
        "  print(\"31 days\")\n",
        "elif a in (5,6,9,11):\n",
        "  print(\"30 days\")\n",
        "else:\n",
        "  print(\"wrong num entered\")      \n"
      ],
      "metadata": {
        "colab": {
          "base_uri": "https://localhost:8080/"
        },
        "id": "m8j1HysLsFIx",
        "outputId": "174be3d5-16aa-4453-ad6a-549cf874883d"
      },
      "execution_count": null,
      "outputs": [
        {
          "output_type": "stream",
          "name": "stdout",
          "text": [
            "enter the month num3\n",
            "31 days\n"
          ]
        }
      ]
    },
    {
      "cell_type": "code",
      "execution_count": null,
      "metadata": {
        "colab": {
          "base_uri": "https://localhost:8080/"
        },
        "id": "BxCYSL06r-Mk",
        "outputId": "af55772e-9165-4afe-b8bd-139d026eec9e"
      },
      "outputs": [
        {
          "output_type": "stream",
          "name": "stdout",
          "text": [
            "am\n"
          ]
        }
      ],
      "source": [
        "a =\"i am satvick\"\n",
        "b=a.split(' ')\n",
        "for x in b:\n",
        "  if len(x)%2==0:\n",
        "     print(x)\n"
      ]
    },
    {
      "cell_type": "code",
      "source": [
        "a =\"i am satvick\"\n",
        "b=a.split(' ')\n",
        "for x in b:\n",
        "     print(x[0].upper(),x[1:7].lower())\n"
      ],
      "metadata": {
        "colab": {
          "base_uri": "https://localhost:8080/"
        },
        "id": "2J8JoOrIswCQ",
        "outputId": "d4b46334-025e-4481-94f4-9fe3b7646a3d"
      },
      "execution_count": null,
      "outputs": [
        {
          "output_type": "stream",
          "name": "stdout",
          "text": [
            "I \n",
            "A m\n",
            "S atvick\n"
          ]
        }
      ]
    },
    {
      "cell_type": "code",
      "source": [
        ""
      ],
      "metadata": {
        "id": "CgXQeALuTvFR"
      },
      "execution_count": null,
      "outputs": []
    },
    {
      "cell_type": "code",
      "source": [
        "#write a python program to find power of number using recursion and without recursion\n"
      ],
      "metadata": {
        "id": "a79JE8YuJYPn"
      },
      "execution_count": null,
      "outputs": []
    },
    {
      "cell_type": "code",
      "source": [
        "##write a python program to sort tupples by total digits input list =[(3,4,6,723),(134,234,34)]"
      ],
      "metadata": {
        "id": "kjqAPTiKKAte"
      },
      "execution_count": null,
      "outputs": []
    },
    {
      "cell_type": "code",
      "source": [
        "##take 5 subject marks from the user and dispay the grade if average is 90 to 100 o grade,<40 fail\n",
        "eng=int(input(\"enter english marks \"))\n",
        "mat=int(input(\"enter maths marks \"))\n",
        "phy=int(input(\"enter physics marks \"))\n",
        "che=int(input(\"enter chemistry marks \"))\n",
        "python=int(input(\"enter python marks \"))\n",
        "sum=eng+mat+phy+che+python\n",
        "print(sum,\"/500\")\n",
        "avg=sum/5\n",
        "print(avg,\"/100\")\n",
        "if avg<100 and avg>90 :\n",
        "  pint(\"O grade\")\n",
        "elif avg<90 and avg>80 : \n",
        "  print(\"A grade\")\n",
        "elif avg<80 and avg>70 : \n",
        "  print(\"B grade\")\n",
        "elif avg<70 and avg>60 : \n",
        "  print(\"C grade\")  \n",
        "elif avg<60 and avg>50 : \n",
        "  print(\"D grade\")    \n",
        "else:\n",
        "  print(\"fail\")  "
      ],
      "metadata": {
        "colab": {
          "base_uri": "https://localhost:8080/"
        },
        "id": "2SPzzmNpKxl9",
        "outputId": "a5e4201b-3eb2-42d4-e8ee-0d32fa2f5d88"
      },
      "execution_count": 8,
      "outputs": [
        {
          "output_type": "stream",
          "name": "stdout",
          "text": [
            "enter english marks34\n",
            "enter maths marks67\n",
            "enter physics marks89\n",
            "enter chemistry marks54\n",
            "enter python marks35\n",
            "279 /500\n",
            "55.8 /100\n",
            "fail\n"
          ]
        }
      ]
    },
    {
      "cell_type": "code",
      "source": [
        "##write a python program that prints digit 1 if all the three given numbers are in ascending order"
      ],
      "metadata": {
        "id": "eDLtoZlbLXkG"
      },
      "execution_count": null,
      "outputs": []
    },
    {
      "cell_type": "code",
      "source": [
        "##check given number is perfect or not"
      ],
      "metadata": {
        "id": "t0ylj7U_Lp2u"
      },
      "execution_count": null,
      "outputs": []
    },
    {
      "cell_type": "code",
      "source": [
        "#check given string is palindrone or not"
      ],
      "metadata": {
        "id": "jBUu2_thMDo9"
      },
      "execution_count": null,
      "outputs": []
    },
    {
      "cell_type": "code",
      "source": [
        "##find the gcd of given numbers 5,3 output is 1"
      ],
      "metadata": {
        "id": "GYjT1ukeMoae"
      },
      "execution_count": null,
      "outputs": []
    },
    {
      "cell_type": "code",
      "source": [
        "##print sum of even numbers in given number"
      ],
      "metadata": {
        "id": "ORR81prxMy-V"
      },
      "execution_count": null,
      "outputs": []
    },
    {
      "cell_type": "code",
      "source": [
        "##calculate the sum of squares of a digit given by user"
      ],
      "metadata": {
        "id": "AEgWkDHtNDYl"
      },
      "execution_count": null,
      "outputs": []
    },
    {
      "cell_type": "code",
      "source": [
        "##print(countfrontbackmatches) "
      ],
      "metadata": {
        "id": "h0754LKANixW"
      },
      "execution_count": null,
      "outputs": []
    },
    {
      "cell_type": "code",
      "source": [
        "##given an integer n returns a list containing 122333444 print(thesumofnumtimes)"
      ],
      "metadata": {
        "id": "HuX-kWsUOezV"
      },
      "execution_count": null,
      "outputs": []
    },
    {
      "cell_type": "code",
      "source": [
        "##print no of vowels and consonants in a given string  "
      ],
      "metadata": {
        "id": "icrCpu60PK8V"
      },
      "execution_count": null,
      "outputs": []
    },
    {
      "cell_type": "code",
      "source": [
        "#given two integers a and b if a is less than b print in ascending order and if it is greater than b print descending order"
      ],
      "metadata": {
        "id": "ASXsdy3OPo6k"
      },
      "execution_count": null,
      "outputs": []
    },
    {
      "cell_type": "code",
      "source": [
        "#write a pprogram to count number of string where the string len is the character are same from a given list of string"
      ],
      "metadata": {
        "id": "fhmynS53QE5U"
      },
      "execution_count": null,
      "outputs": []
    },
    {
      "cell_type": "code",
      "source": [
        "#take the input from the user no of day, no of roundtrip calculate the distance coovered in m if distance is less than 40000 \n",
        "#print you need to work more if more than 40000 print you did a great job"
      ],
      "metadata": {
        "id": "smlvGGacQ_Cc"
      },
      "execution_count": null,
      "outputs": []
    },
    {
      "cell_type": "code",
      "source": [
        "#given a list of city names whose len is grater than the given len "
      ],
      "metadata": {
        "id": "5Akab80sRya0"
      },
      "execution_count": null,
      "outputs": []
    }
  ]
}