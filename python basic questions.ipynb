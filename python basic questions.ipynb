{
  "nbformat": 4,
  "nbformat_minor": 0,
  "metadata": {
    "colab": {
      "name": "Python_practice.ipynb",
      "provenance": [],
      "authorship_tag": "ABX9TyNPSMGPrUOIlPWqOHo1cyot",
      "include_colab_link": true
    },
    "kernelspec": {
      "name": "python3",
      "display_name": "Python 3"
    },
    "language_info": {
      "name": "python"
    }
  },
  "cells": [
    {
      "cell_type": "markdown",
      "metadata": {
        "id": "view-in-github",
        "colab_type": "text"
      },
      "source": [
        "<a href=\"https://colab.research.google.com/github/satvickyadlapalli/python/blob/main/python%20basic%20questions.ipynb\" target=\"_parent\"><img src=\"https://colab.research.google.com/assets/colab-badge.svg\" alt=\"Open In Colab\"/></a>"
      ]
    },
    {
      "cell_type": "code",
      "execution_count": null,
      "metadata": {
        "id": "GCgwP2R0ITlR"
      },
      "outputs": [],
      "source": [
        "#find the persom whether eligible to vote or not\n",
        "a=int(input())\n",
        "if a>=18:\n",
        "      print(\"eligible to vote\")\n",
        "else:\n",
        "      print(\"not eligile to vote\")\n"
      ]
    },
    {
      "cell_type": "code",
      "source": [
        "#greatest of 3 numbers\n",
        "(a,b,c)=(int(input()),int(input()),int(input()))\n",
        "if c<a>b:\n",
        "      print(\"a is greater\")\n",
        "if a<b>c:\n",
        "      print(\"b is greater\")     \n",
        "if a<c>b:\n",
        "      print(\"c is greater\")       "
      ],
      "metadata": {
        "id": "4ENSrkrxWAoZ"
      },
      "execution_count": null,
      "outputs": []
    },
    {
      "cell_type": "code",
      "source": [
        "#enter 5 subject marks and find the sum,average,percentage\n",
        "(a,b,c,d,e)=(int(input()),int(input()),int(input()),int(input()),int(input()))\n",
        "sum=a+b+c+d+e\n",
        "print(\"sum\")"
      ],
      "metadata": {
        "id": "x9aglfRAWKC_"
      },
      "execution_count": null,
      "outputs": []
    }
  ]
}