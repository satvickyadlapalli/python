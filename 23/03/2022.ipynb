{
  "nbformat": 4,
  "nbformat_minor": 0,
  "metadata": {
    "colab": {
      "name": "Untitled0.ipynb",
      "provenance": [],
      "authorship_tag": "ABX9TyMQY43xwj9+1bzBbPm2Rqjc",
      "include_colab_link": true
    },
    "kernelspec": {
      "name": "python3",
      "display_name": "Python 3"
    },
    "language_info": {
      "name": "python"
    }
  },
  "cells": [
    {
      "cell_type": "markdown",
      "metadata": {
        "id": "view-in-github",
        "colab_type": "text"
      },
      "source": [
        "<a href=\"https://colab.research.google.com/github/satvickyadlapalli/python/blob/main/23/03/2022.ipynb\" target=\"_parent\"><img src=\"https://colab.research.google.com/assets/colab-badge.svg\" alt=\"Open In Colab\"/></a>"
      ]
    },
    {
      "cell_type": "markdown",
      "source": [
        "PRINTING THE FRUIT NAME BY ENTERING ITS POSITION"
      ],
      "metadata": {
        "id": "46P7MtMT_ZA3"
      }
    },
    {
      "cell_type": "code",
      "execution_count": 29,
      "metadata": {
        "colab": {
          "base_uri": "https://localhost:8080/"
        },
        "id": "vCICT0vs4geH",
        "outputId": "4b9adb97-0e3a-40c3-ba91-617004bdfc73"
      },
      "outputs": [
        {
          "output_type": "stream",
          "name": "stdout",
          "text": [
            "['apple', 'orange', 'mango', 'grapes', 'banana']\n",
            "orange\n",
            "mango\n",
            "grapes\n",
            "banana\n",
            "5\n"
          ]
        }
      ],
      "source": [
        "fruit=['apple', 'orange', 'mango', 'grapes', 'banana']\n",
        "print(fruit[0:5])\n",
        "print(fruit[1])\n",
        "print(fruit[2])\n",
        "print(fruit[3])\n",
        "print(fruit[4])\n",
        "print(len(fruit))"
      ]
    },
    {
      "cell_type": "code",
      "source": [
        "fruit=['apple', 'orange', 'mango', 'grapes', 'banana']\n",
        "print(fruit[0],fruit[-2])\n",
        "print(fruit[1:5:3])\n",
        "print(fruit[2: ])\n",
        "print(fruit[:3])\n",
        "(fruit[4])"
      ],
      "metadata": {
        "colab": {
          "base_uri": "https://localhost:8080/",
          "height": 105
        },
        "id": "wbYUSwmO5_dR",
        "outputId": "076934e2-4697-42f8-e7d4-8a8f801eade8"
      },
      "execution_count": 13,
      "outputs": [
        {
          "output_type": "stream",
          "name": "stdout",
          "text": [
            "apple grapes\n",
            "['orange', 'banana']\n",
            "['mango', 'grapes', 'banana']\n",
            "['apple', 'orange', 'mango']\n"
          ]
        },
        {
          "output_type": "execute_result",
          "data": {
            "text/plain": [
              "'banana'"
            ],
            "application/vnd.google.colaboratory.intrinsic+json": {
              "type": "string"
            }
          },
          "metadata": {},
          "execution_count": 13
        }
      ]
    },
    {
      "cell_type": "markdown",
      "source": [
        "APPEND AND EXTEND\n"
      ],
      "metadata": {
        "id": "dgf7UtWR_QF4"
      }
    },
    {
      "cell_type": "code",
      "source": [
        "a=[20,30,40,50,60]\n",
        "print(a[1])\n",
        "a.append(70)\n",
        "print(a)\n",
        "a.extend([80,90,100])\n",
        "print(a)\n"
      ],
      "metadata": {
        "colab": {
          "base_uri": "https://localhost:8080/"
        },
        "id": "jM9O7sVy8Rrq",
        "outputId": "16e36f37-cd68-4898-e4a6-c27c82a923ff"
      },
      "execution_count": 28,
      "outputs": [
        {
          "output_type": "stream",
          "name": "stdout",
          "text": [
            "30\n",
            "[20, 30, 40, 50, 60, 70]\n",
            "[20, 30, 40, 50, 60, 70, 80, 90, 100]\n"
          ]
        }
      ]
    },
    {
      "cell_type": "markdown",
      "source": [
        "Delete List Elements"
      ],
      "metadata": {
        "id": "O3fuf1Y2CUYH"
      }
    },
    {
      "cell_type": "code",
      "source": [
        "\n",
        "my_list = ['p', 'r', 'o', 'b', 'l', 'e', 'm']\n",
        "\n",
        "del my_list[2]\n",
        "print(my_list)\n",
        "del my_list[1:5]\n",
        "print(my_list)\n",
        "del my_list\n"
      ],
      "metadata": {
        "colab": {
          "base_uri": "https://localhost:8080/"
        },
        "id": "Qq_Cdttn_lyH",
        "outputId": "c6d21f2f-e978-4369-e75e-3aaf2418f591"
      },
      "execution_count": 22,
      "outputs": [
        {
          "output_type": "stream",
          "name": "stdout",
          "text": [
            "['p', 'r', 'b', 'l', 'e', 'm']\n",
            "['p', 'm']\n"
          ]
        }
      ]
    },
    {
      "cell_type": "code",
      "source": [
        ""
      ],
      "metadata": {
        "id": "3m1aCuyWHXBW"
      },
      "execution_count": null,
      "outputs": []
    }
  ]
}